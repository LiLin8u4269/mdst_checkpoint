{
 "cells": [
  {
   "cell_type": "markdown",
   "metadata": {},
   "source": [
    "##### Result"
   ]
  },
  {
   "cell_type": "code",
   "execution_count": 39,
   "metadata": {},
   "outputs": [
    {
     "name": "stdout",
     "output_type": "stream",
     "text": [
      "odd\n",
      "even\n",
      "Enter a number:3\n",
      "guess higher\n",
      "Enter a number:8\n",
      "guess correct\n",
      "User's string is not palindrome\n",
      "User's string is palindrome\n",
      "Username: naitian\n",
      "\n",
      "Password: p4ssw0rd\n",
      "['naitian\\n', 'Password: p4ssw0rd!']\n",
      "Username: naitian\n",
      "\n",
      "Password: Password: p4ssw0rd!\n"
     ]
    }
   ],
   "source": [
    "    part1(3)  # odd!\n",
    "    part1(4)  # even!\n",
    "    part2()\n",
    "    part3(\"ratrace\")  # False\n",
    "    part3(\"racecar\")  # True\n",
    "    part4a(\"secret.txt\", \"naitian\", \"p4ssw0rd\")\n",
    "    part4b(\"secret.txt\")\n",
    "    part4b(\"secret.txt\", password=\"p4ssw0rd!\")\n",
    "    part4b(\"secret.txt\")"
   ]
  },
  {
   "cell_type": "code",
   "execution_count": 28,
   "metadata": {},
   "outputs": [],
   "source": [
    "def part1(num):\n",
    "    if(num %2 ==0):\n",
    "        print(\"even\")\n",
    "    else:\n",
    "        print(\"odd\")"
   ]
  },
  {
   "cell_type": "code",
   "execution_count": 4,
   "metadata": {},
   "outputs": [
    {
     "data": {
      "text/plain": [
       "'\\nGenerate a random number between 1 and 9 (including 1 and 9). Ask the user\\nto guess the number, then tell them whether they guessed too low, too high,\\nor exactly right.\\n(Hint: remember to use the user input lessons from the very first\\nexercise).\\nKeep the game going until the user types \"exit\".\\n[ try checking the random module in python on google. Concepts: Infinite\\nloops, if, else, loops and user/input].\\n'"
      ]
     },
     "execution_count": 4,
     "metadata": {},
     "output_type": "execute_result"
    },
    {
     "data": {
      "text/plain": [
       "'\\nGenerate a random number between 1 and 9 (including 1 and 9). Ask the user\\nto guess the number, then tell them whether they guessed too low, too high,\\nor exactly right.\\n(Hint: remember to use the user input lessons from the very first\\nexercise).\\nKeep the game going until the user types \"exit\".\\n[ try checking the random module in python on google. Concepts: Infinite\\nloops, if, else, loops and user/input].\\n'"
      ]
     },
     "execution_count": 4,
     "metadata": {},
     "output_type": "execute_result"
    },
    {
     "data": {
      "text/plain": [
       "'\\nGenerate a random number between 1 and 9 (including 1 and 9). Ask the user\\nto guess the number, then tell them whether they guessed too low, too high,\\nor exactly right.\\n(Hint: remember to use the user input lessons from the very first\\nexercise).\\nKeep the game going until the user types \"exit\".\\n[ try checking the random module in python on google. Concepts: Infinite\\nloops, if, else, loops and user/input].\\n'"
      ]
     },
     "execution_count": 4,
     "metadata": {},
     "output_type": "execute_result"
    }
   ],
   "source": [
    "    \"\"\"\n",
    "    Generate a random number between 1 and 9 (including 1 and 9). Ask the user\n",
    "    to guess the number, then tell them whether they guessed too low, too high,\n",
    "    or exactly right.\n",
    "    (Hint: remember to use the user input lessons from the very first\n",
    "    exercise).\n",
    "    Keep the game going until the user types \"exit\".\n",
    "    [ try checking the random module in python on google. Concepts: Infinite\n",
    "    loops, if, else, loops and user/input].\n",
    "    \"\"\""
   ]
  },
  {
   "cell_type": "code",
   "execution_count": 4,
   "metadata": {},
   "outputs": [],
   "source": [
    "from random import randrange\n",
    "def part2():\n",
    "    num_random = randrange(10)\n",
    "    num_user = str(input(\"Enter a number:\"))\n",
    "    while(num_user !=\"exit\"):\n",
    "        num_user = int(num_user)\n",
    "        if(num_user > num_random):\n",
    "            print(\"guess lower\")\n",
    "        elif(num_user < num_random):\n",
    "            print(\"guess higher\")\n",
    "        else:\n",
    "            break\n",
    "        num_user = str(input(\"Enter a number:\"))\n",
    "    if(num_user != 'exit'):\n",
    "        print(\"guess correct\")\n",
    "    else:\n",
    "        print(\"User exit the program\")\n",
    "    "
   ]
  },
  {
   "cell_type": "code",
   "execution_count": null,
   "metadata": {},
   "outputs": [],
   "source": [
    "###3."
   ]
  },
  {
   "cell_type": "code",
   "execution_count": null,
   "metadata": {},
   "outputs": [],
   "source": [
    "\n",
    "    \"\"\"   \n",
    "    Ask the user for a string and print out whether this string is a palindrome\n",
    "    or not. (A palindrome is a string that reads the same forwards and\n",
    "    backwards.)\n",
    "    \"\"\""
   ]
  },
  {
   "cell_type": "code",
   "execution_count": 5,
   "metadata": {},
   "outputs": [],
   "source": [
    "import math\n",
    "def part3(name):\n",
    "    user_str = name\n",
    "    str_num = len(user_str)\n",
    "    i = 0\n",
    "    while(i<math.ceil(str_num/2)):\n",
    "        if(user_str[i]!=user_str[str_num-1-i]):\n",
    "            print(\"User's string is not palindrome\")\n",
    "            return \n",
    "        i = i + 1\n",
    "    print(\"User's string is palindrome\")\n"
   ]
  },
  {
   "cell_type": "code",
   "execution_count": null,
   "metadata": {},
   "outputs": [],
   "source": [
    "### 4a:"
   ]
  },
  {
   "cell_type": "code",
   "execution_count": 37,
   "metadata": {},
   "outputs": [],
   "source": [
    "import base64\n",
    "def part4a(filename, username, password):\n",
    "    \n",
    "    username_name = username\n",
    "    user_password = password\n",
    "\n",
    "    f = open(filename,'w')\n",
    "    f.write(username_name+\"\\n\")\n",
    "    f.write(user_password)\n",
    "    f.close()\n"
   ]
  },
  {
   "cell_type": "code",
   "execution_count": 38,
   "metadata": {},
   "outputs": [],
   "source": [
    "def part4b(filename, password=None):\n",
    "    f = open(filename,'r')\n",
    "    if(password == None):\n",
    "        name = (f.readline())\n",
    "        pass_word = (f.readline())\n",
    "        print(\"Username: \" + name)\n",
    "        print(\"Password: \" + pass_word)\n",
    "    else:\n",
    "        name = (f.readline())\n",
    "        pass_word = (f.readline())\n",
    "        f.close()\n",
    "        with open(filename,'r') as file:\n",
    "            data = file.readlines()\n",
    "            data[1] = \"Password: \" + password \n",
    "        with open(filename,'w') as file:\n",
    "            file.writelines( data )\n",
    "            file.close()\n",
    "        with open(filename,'r') as file:\n",
    "            data = file.readlines()\n",
    "            print(data)\n",
    "            file.close()\n",
    "        "
   ]
  },
  {
   "cell_type": "code",
   "execution_count": null,
   "metadata": {},
   "outputs": [],
   "source": []
  }
 ],
 "metadata": {
  "kernelspec": {
   "display_name": "Python 3",
   "language": "python",
   "name": "python3"
  },
  "language_info": {
   "codemirror_mode": {
    "name": "ipython",
    "version": 3
   },
   "file_extension": ".py",
   "mimetype": "text/x-python",
   "name": "python",
   "nbconvert_exporter": "python",
   "pygments_lexer": "ipython3",
   "version": "3.7.6"
  }
 },
 "nbformat": 4,
 "nbformat_minor": 2
}
